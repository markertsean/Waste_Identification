{
 "cells": [
  {
   "cell_type": "code",
   "execution_count": 8,
   "metadata": {
    "collapsed": true
   },
   "outputs": [],
   "source": [
    "from google_images_download import google_images_download   #importing the library\n",
    "\n",
    "response = google_images_download.googleimagesdownload()   #class instantiation"
   ]
  },
  {
   "cell_type": "code",
   "execution_count": 9,
   "metadata": {
    "collapsed": true
   },
   "outputs": [],
   "source": [
    "abs_limit = 20\n",
    "\n",
    "base_args = {\n",
    "                'limit': abs_limit,\n",
    "            }\n",
    "\n",
    "keyword_list = [\n",
    "                'soda fountain cup',\n",
    "                'soda cup lid',\n",
    "                'drink_straw',\n",
    "               ]\n",
    "\n",
    "dir_list = [\n",
    "            'sfcup',\n",
    "            'sflid',\n",
    "            'straw',\n",
    "           ]"
   ]
  },
  {
   "cell_type": "code",
   "execution_count": 11,
   "metadata": {
    "collapsed": false
   },
   "outputs": [
    {
     "name": "stdout",
     "output_type": "stream",
     "text": [
      "Searching for  soda fountain cup , storing in download directory  sfcup\n",
      "\n",
      "Item no.: 1 --> Item name = soda fountain cup\n",
      "Evaluating...\n",
      "Starting Download...\n",
      "Completed Image ====> 1. stock-photo-a-soda-fountain-cup-isolated-on-a-white-background-445209874.jpg\n",
      "Completed Image ====> 2. dq-drinks-soft-coke.png\n",
      "Completed Image ====> 3. coca-cola_thumb%25255b2%25255d.jpg\n",
      "Completed Image ====> 4. dcp100-l-01.jpg\n",
      "Completed Image ====> 5. gc\n",
      "Completed Image ====> 6. 31ypwp1drsl.jpg\n",
      "Completed Image ====> 7. 49356_plain.jpg\n",
      "Completed Image ====> 8. clipart-of-a-cartoon-red-fountain-soda-cup-royalty-free-vector-illustration-10241301757.jpg\n",
      "Completed Image ====> 9. cc01a8a80216764b7ab1c4086f972e7d.jpg\n",
      "Completed Image ====> 10. pepsi_fountain.png\n",
      "Completed Image ====> 11. gc24%20web.jpg\n",
      "Completed Image ====> 12. 29ecdbd3294e2d75757617565a2c998e.jpg\n",
      "Completed Image ====> 13. dollhouse_miniature_fountain_soda_cup.jpg\n",
      "Completed Image ====> 14. soda-pop-cup.jpg\n",
      "Completed Image ====> 15. s-l300.jpg\n",
      "Completed Image ====> 16. packaging_footballcups.jpg\n",
      "Completed Image ====> 17. red-plastic-drink-cup-png-vector-clipart-image-5a3bf2e526eb41.1208135615138782451594.jpg\n",
      "Completed Image ====> 18. clipart-of-a-fountain-soda-cup-royalty-free-vector-illustration-10241250250.jpg\n",
      "Completed Image ====> 19. 7ecfdb3aa0ed384fb2bf7c8633301906.jpg\n",
      "Completed Image ====> 20. old-fashioned-soda-fountain-plastic-goblet-parfait-ice-cream-cups-bowls-glasses-fountainware-0.jpg\n",
      "\n",
      "Errors: 0\n",
      "\n",
      "{'soda fountain cup': ['/home/sean/Insight/Recycling/scraping/downloads/sfcup/1. stock-photo-a-soda-fountain-cup-isolated-on-a-white-background-445209874.jpg', '/home/sean/Insight/Recycling/scraping/downloads/sfcup/2. dq-drinks-soft-coke.png', '/home/sean/Insight/Recycling/scraping/downloads/sfcup/3. coca-cola_thumb%25255b2%25255d.jpg', '/home/sean/Insight/Recycling/scraping/downloads/sfcup/4. dcp100-l-01.jpg', '/home/sean/Insight/Recycling/scraping/downloads/sfcup/5. gc', '/home/sean/Insight/Recycling/scraping/downloads/sfcup/6. 31ypwp1drsl.jpg', '/home/sean/Insight/Recycling/scraping/downloads/sfcup/7. 49356_plain.jpg', '/home/sean/Insight/Recycling/scraping/downloads/sfcup/8. clipart-of-a-cartoon-red-fountain-soda-cup-royalty-free-vector-illustration-10241301757.jpg', '/home/sean/Insight/Recycling/scraping/downloads/sfcup/9. cc01a8a80216764b7ab1c4086f972e7d.jpg', '/home/sean/Insight/Recycling/scraping/downloads/sfcup/10. pepsi_fountain.png', '/home/sean/Insight/Recycling/scraping/downloads/sfcup/11. gc24%20web.jpg', '/home/sean/Insight/Recycling/scraping/downloads/sfcup/12. 29ecdbd3294e2d75757617565a2c998e.jpg', '/home/sean/Insight/Recycling/scraping/downloads/sfcup/13. dollhouse_miniature_fountain_soda_cup.jpg', '/home/sean/Insight/Recycling/scraping/downloads/sfcup/14. soda-pop-cup.jpg', '/home/sean/Insight/Recycling/scraping/downloads/sfcup/15. s-l300.jpg', '/home/sean/Insight/Recycling/scraping/downloads/sfcup/16. packaging_footballcups.jpg', '/home/sean/Insight/Recycling/scraping/downloads/sfcup/17. red-plastic-drink-cup-png-vector-clipart-image-5a3bf2e526eb41.1208135615138782451594.jpg', '/home/sean/Insight/Recycling/scraping/downloads/sfcup/18. clipart-of-a-fountain-soda-cup-royalty-free-vector-illustration-10241250250.jpg', '/home/sean/Insight/Recycling/scraping/downloads/sfcup/19. 7ecfdb3aa0ed384fb2bf7c8633301906.jpg', '/home/sean/Insight/Recycling/scraping/downloads/sfcup/20. old-fashioned-soda-fountain-plastic-goblet-parfait-ice-cream-cups-bowls-glasses-fountainware-0.jpg']}\n",
      "Searching for  soda cup lid , storing in download directory  sflid\n",
      "\n",
      "Item no.: 1 --> Item name = soda cup lid\n",
      "Evaluating...\n",
      "Starting Download...\n",
      "Completed Image ====> 1. 32sl.jpg\n",
      "Completed Image ====> 2. lcrsa-22%20cold%20cup%20lid_jpg\n",
      "Completed Image ====> 3. 12sl.jpg\n",
      "Completed Image ====> 4. sccl16bl.jpg\n",
      "Completed Image ====> 5. lcrsa-32%20cold%20cup%20lid_jpg\n",
      "Completed Image ====> 6. soft-drink-cup-lid1.jpg\n",
      "Completed Image ====> 7. q5%20coffee%20materials.jpg\n",
      "Completed Image ====> 8. main-qimg-3297178ae5482f5c01d71ae07dd8aba0-c.jpg\n",
      "Completed Image ====> 9. karat-c-kcl90-1.jpg\n",
      "Completed Image ====> 10. rightsideuplid.jpg\n",
      "Completed Image ====> 11. lcrse-22%20ecotainer%20cold%20cup%20lid_jpg\n",
      "Completed Image ====> 12. 6a00d83451bc4269e20147e16c6a7c970b-450wi.jpg\n",
      "Completed Image ====> 13. 10183-preview-01.jpg\n",
      "Completed Image ====> 14. ba3_900x.png\n",
      "Completed Image ====> 15. 31js1cpbxkl.jpg\n",
      "Completed Image ====> 16. htb10firgxxxxxadxxxxq6xxfxxxv.jpg\n",
      "Completed Image ====> 17. clear-disposable-plastic-cup-lid-empty-cold-beverage-soda-ice-tea-coffee-cocktail-milkshake-juice-ml-realistic-102372983.jpg\n",
      "Completed Image ====> 18. lid6.jpg\n",
      "Completed Image ====> 19. clipart-illustration-of-a-red-fountain-soda-cup-with-a-white-lid-and-a-straw-102424877.jpg\n",
      "Completed Image ====> 20. stock-photo--d-rendering-mock-up-paper-soda-cup-with-lid-isolated-on-white-background-787047523.jpg\n",
      "\n",
      "Errors: 0\n",
      "\n",
      "{'soda cup lid': ['/home/sean/Insight/Recycling/scraping/downloads/sflid/1. 32sl.jpg', '/home/sean/Insight/Recycling/scraping/downloads/sflid/2. lcrsa-22%20cold%20cup%20lid_jpg', '/home/sean/Insight/Recycling/scraping/downloads/sflid/3. 12sl.jpg', '/home/sean/Insight/Recycling/scraping/downloads/sflid/4. sccl16bl.jpg', '/home/sean/Insight/Recycling/scraping/downloads/sflid/5. lcrsa-32%20cold%20cup%20lid_jpg', '/home/sean/Insight/Recycling/scraping/downloads/sflid/6. soft-drink-cup-lid1.jpg', '/home/sean/Insight/Recycling/scraping/downloads/sflid/7. q5%20coffee%20materials.jpg', '/home/sean/Insight/Recycling/scraping/downloads/sflid/8. main-qimg-3297178ae5482f5c01d71ae07dd8aba0-c.jpg', '/home/sean/Insight/Recycling/scraping/downloads/sflid/9. karat-c-kcl90-1.jpg', '/home/sean/Insight/Recycling/scraping/downloads/sflid/10. rightsideuplid.jpg', '/home/sean/Insight/Recycling/scraping/downloads/sflid/11. lcrse-22%20ecotainer%20cold%20cup%20lid_jpg', '/home/sean/Insight/Recycling/scraping/downloads/sflid/12. 6a00d83451bc4269e20147e16c6a7c970b-450wi.jpg', '/home/sean/Insight/Recycling/scraping/downloads/sflid/13. 10183-preview-01.jpg', '/home/sean/Insight/Recycling/scraping/downloads/sflid/14. ba3_900x.png', '/home/sean/Insight/Recycling/scraping/downloads/sflid/15. 31js1cpbxkl.jpg', '/home/sean/Insight/Recycling/scraping/downloads/sflid/16. htb10firgxxxxxadxxxxq6xxfxxxv.jpg', '/home/sean/Insight/Recycling/scraping/downloads/sflid/17. clear-disposable-plastic-cup-lid-empty-cold-beverage-soda-ice-tea-coffee-cocktail-milkshake-juice-ml-realistic-102372983.jpg', '/home/sean/Insight/Recycling/scraping/downloads/sflid/18. lid6.jpg', '/home/sean/Insight/Recycling/scraping/downloads/sflid/19. clipart-illustration-of-a-red-fountain-soda-cup-with-a-white-lid-and-a-straw-102424877.jpg', '/home/sean/Insight/Recycling/scraping/downloads/sflid/20. stock-photo--d-rendering-mock-up-paper-soda-cup-with-lid-isolated-on-white-background-787047523.jpg']}\n",
      "Searching for  drink_straw , storing in download directory  straw\n",
      "\n",
      "Item no.: 1 --> Item name = drink_straw\n",
      "Evaluating...\n",
      "Starting Download...\n",
      "Completed Image ====> 1. hot-sale-coloful-plastic-drinking-straw.jpg\n",
      "Completed Image ====> 2. 1200px-eight_drinking_straws_%284273846588%29.jpg\n",
      "Completed Image ====> 3. 61cmh-2sbpl._sy355_.jpg\n",
      "Completed Image ====> 4. a42f1b18-18c8-400a-90be-0f2d16e39faa_1.8d14210448af0836ab6e63b314de2682.jpeg\n",
      "Completed Image ====> 5. colorful-drinking-straws-set-illustration-34500380.jpg\n",
      "Completed Image ====> 6. straw.png\n",
      "Completed Image ====> 7. ss-straws_behind_the_bar_stainless_steel_drinking_straw_01.jpg\n",
      "Completed Image ====> 8. 170px-drink_with_straw.jpg\n",
      "Completed Image ====> 9. drinking-straw-picture-id483468552?k=6&m=483468552&s=612x612&w=0&h=4cdqxwx4vszih0p21t_hjsovpaicqckwceea5p7qv2i=.jpg\n",
      "Completed Image ====> 10. free-shipping-10pcs-lot-plastic-distorted-varied-shaped-drink-straw-bar-party-decoration-art-drinking-candy.jpg\n",
      "Completed Image ====> 11. rbvar1pnmkyaakb1aahhz_2iejc293.jpg\n",
      "Completed Image ====> 12. wholesale-26cm-multicolor-straw-long-bendy.jpg\n",
      "Completed Image ====> 13. sip_tip_priming_the_straw__17877.1432245410.1280.1280.jpg\n",
      "Completed Image ====> 14. drink%20straw2_render.jpg\n",
      "Completed Image ====> 15. colorful-drinking-straws-set-illustration-34500540.jpg\n",
      "Completed Image ====> 16. silicone-rubber-drinking-straw-silly-straws-silicone.jpg\n",
      "Completed Image ====> 17. 58000583-colored-drinking-straws-plastic-straw-tube-for-drink-and-stripe-pipe-straw-flexible-vector-illustrat.jpg\n",
      "Completed Image ====> 18. drink-straw.jpg\n",
      "Completed Image ====> 19. red-blue-stripes-white-straight-drinking-straw.jpg\n",
      "Completed Image ====> 20. why-americans-should-stop-using-drinking-straws-76389.jpg\n",
      "\n",
      "Errors: 0\n",
      "\n",
      "{'drink_straw': ['/home/sean/Insight/Recycling/scraping/downloads/straw/1. hot-sale-coloful-plastic-drinking-straw.jpg', '/home/sean/Insight/Recycling/scraping/downloads/straw/2. 1200px-eight_drinking_straws_%284273846588%29.jpg', '/home/sean/Insight/Recycling/scraping/downloads/straw/3. 61cmh-2sbpl._sy355_.jpg', '/home/sean/Insight/Recycling/scraping/downloads/straw/4. a42f1b18-18c8-400a-90be-0f2d16e39faa_1.8d14210448af0836ab6e63b314de2682.jpeg', '/home/sean/Insight/Recycling/scraping/downloads/straw/5. colorful-drinking-straws-set-illustration-34500380.jpg', '/home/sean/Insight/Recycling/scraping/downloads/straw/6. straw.png', '/home/sean/Insight/Recycling/scraping/downloads/straw/7. ss-straws_behind_the_bar_stainless_steel_drinking_straw_01.jpg', '/home/sean/Insight/Recycling/scraping/downloads/straw/8. 170px-drink_with_straw.jpg', '/home/sean/Insight/Recycling/scraping/downloads/straw/9. drinking-straw-picture-id483468552?k=6&m=483468552&s=612x612&w=0&h=4cdqxwx4vszih0p21t_hjsovpaicqckwceea5p7qv2i=.jpg', '/home/sean/Insight/Recycling/scraping/downloads/straw/10. free-shipping-10pcs-lot-plastic-distorted-varied-shaped-drink-straw-bar-party-decoration-art-drinking-candy.jpg', '/home/sean/Insight/Recycling/scraping/downloads/straw/11. rbvar1pnmkyaakb1aahhz_2iejc293.jpg', '/home/sean/Insight/Recycling/scraping/downloads/straw/12. wholesale-26cm-multicolor-straw-long-bendy.jpg', '/home/sean/Insight/Recycling/scraping/downloads/straw/13. sip_tip_priming_the_straw__17877.1432245410.1280.1280.jpg', '/home/sean/Insight/Recycling/scraping/downloads/straw/14. drink%20straw2_render.jpg', '/home/sean/Insight/Recycling/scraping/downloads/straw/15. colorful-drinking-straws-set-illustration-34500540.jpg', '/home/sean/Insight/Recycling/scraping/downloads/straw/16. silicone-rubber-drinking-straw-silly-straws-silicone.jpg', '/home/sean/Insight/Recycling/scraping/downloads/straw/17. 58000583-colored-drinking-straws-plastic-straw-tube-for-drink-and-stripe-pipe-straw-flexible-vector-illustrat.jpg', '/home/sean/Insight/Recycling/scraping/downloads/straw/18. drink-straw.jpg', '/home/sean/Insight/Recycling/scraping/downloads/straw/19. red-blue-stripes-white-straight-drinking-straw.jpg', '/home/sean/Insight/Recycling/scraping/downloads/straw/20. why-americans-should-stop-using-drinking-straws-76389.jpg']}\n"
     ]
    }
   ],
   "source": [
    "for kw, dr in zip( keyword_list, dir_list ): \n",
    "\n",
    "    print 'Searching for ',kw,', storing in download directory ', dr\n",
    "    arguments = base_args.copy()\n",
    "    arguments['keywords']        = kw\n",
    "    arguments['image_directory'] = dr\n",
    "    \n",
    "    paths = response.download(arguments)   #passing the arguments to the function\n",
    "\n",
    "    print(paths)   #printing absolute paths of the downloaded images\n",
    "    \n",
    "    print '\\n\\n'"
   ]
  },
  {
   "cell_type": "code",
   "execution_count": null,
   "metadata": {
    "collapsed": true
   },
   "outputs": [],
   "source": []
  }
 ],
 "metadata": {
  "kernelspec": {
   "display_name": "Python 2",
   "language": "python",
   "name": "python2"
  },
  "language_info": {
   "codemirror_mode": {
    "name": "ipython",
    "version": 2
   },
   "file_extension": ".py",
   "mimetype": "text/x-python",
   "name": "python",
   "nbconvert_exporter": "python",
   "pygments_lexer": "ipython2",
   "version": "2.7.13"
  }
 },
 "nbformat": 4,
 "nbformat_minor": 2
}
